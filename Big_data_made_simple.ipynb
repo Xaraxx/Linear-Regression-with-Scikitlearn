{
  "nbformat": 4,
  "nbformat_minor": 0,
  "metadata": {
    "colab": {
      "name": "Big-data-made-simple.ipynb",
      "version": "0.3.2",
      "provenance": [],
      "include_colab_link": true
    },
    "kernelspec": {
      "display_name": "Python 3",
      "language": "python",
      "name": "python3"
    }
  },
  "cells": [
    {
      "cell_type": "markdown",
      "metadata": {
        "id": "view-in-github",
        "colab_type": "text"
      },
      "source": [
        "<a href=\"https://colab.research.google.com/github/Xaraxx/Linear-Regression-with-Scikitlearn/blob/master/Big_data_made_simple.ipynb\" target=\"_parent\"><img src=\"https://colab.research.google.com/assets/colab-badge.svg\" alt=\"Open In Colab\"/></a>"
      ]
    },
    {
      "metadata": {
        "id": "Ical5mCZ9g8d",
        "colab_type": "text"
      },
      "cell_type": "markdown",
      "source": [
        "# Big data made simple-Runing Linear Regression in Python with Scikit-Learn"
      ]
    },
    {
      "metadata": {
        "id": "eJip-4GV9g8n",
        "colab_type": "code",
        "colab": {}
      },
      "cell_type": "code",
      "source": [
        "import numpy as np \n",
        "import pandas as pd\n",
        "import scipy.stats as stats\n",
        "import matplotlib.pyplot as plt\n",
        "import sklearn\n"
      ],
      "execution_count": 0,
      "outputs": []
    },
    {
      "metadata": {
        "id": "h3jZHtRE9g81",
        "colab_type": "text"
      },
      "cell_type": "markdown",
      "source": [
        "Librerías requeridas "
      ]
    },
    {
      "metadata": {
        "id": "p9c608j89g85",
        "colab_type": "code",
        "outputId": "ca06ef60-35b1-473c-b14c-753eac21d2f5",
        "colab": {
          "base_uri": "https://localhost:8080/",
          "height": 34
        }
      },
      "cell_type": "code",
      "source": [
        "from sklearn.datasets import load_boston\n",
        "boston = load_boston()\n",
        "boston.keys()\n",
        "boston.data.shape"
      ],
      "execution_count": 0,
      "outputs": [
        {
          "output_type": "execute_result",
          "data": {
            "text/plain": [
              "(506, 13)"
            ]
          },
          "metadata": {
            "tags": []
          },
          "execution_count": 2
        }
      ]
    },
    {
      "metadata": {
        "id": "HmFuqP3E9g9O",
        "colab_type": "code",
        "outputId": "6965ff8c-c276-4f80-b7a4-c483bd0b3b0a",
        "colab": {
          "base_uri": "https://localhost:8080/",
          "height": 238
        }
      },
      "cell_type": "code",
      "source": [
        "print(boston.feature_names)\n",
        "#boston.DESCR\n",
        "bos = pd.DataFrame(boston.data)\n",
        "bos.head()"
      ],
      "execution_count": 0,
      "outputs": [
        {
          "output_type": "stream",
          "text": [
            "['CRIM' 'ZN' 'INDUS' 'CHAS' 'NOX' 'RM' 'AGE' 'DIS' 'RAD' 'TAX' 'PTRATIO'\n",
            " 'B' 'LSTAT']\n"
          ],
          "name": "stdout"
        },
        {
          "output_type": "execute_result",
          "data": {
            "text/html": [
              "<div>\n",
              "<style scoped>\n",
              "    .dataframe tbody tr th:only-of-type {\n",
              "        vertical-align: middle;\n",
              "    }\n",
              "\n",
              "    .dataframe tbody tr th {\n",
              "        vertical-align: top;\n",
              "    }\n",
              "\n",
              "    .dataframe thead th {\n",
              "        text-align: right;\n",
              "    }\n",
              "</style>\n",
              "<table border=\"1\" class=\"dataframe\">\n",
              "  <thead>\n",
              "    <tr style=\"text-align: right;\">\n",
              "      <th></th>\n",
              "      <th>0</th>\n",
              "      <th>1</th>\n",
              "      <th>2</th>\n",
              "      <th>3</th>\n",
              "      <th>4</th>\n",
              "      <th>5</th>\n",
              "      <th>6</th>\n",
              "      <th>7</th>\n",
              "      <th>8</th>\n",
              "      <th>9</th>\n",
              "      <th>10</th>\n",
              "      <th>11</th>\n",
              "      <th>12</th>\n",
              "    </tr>\n",
              "  </thead>\n",
              "  <tbody>\n",
              "    <tr>\n",
              "      <th>0</th>\n",
              "      <td>0.00632</td>\n",
              "      <td>18.0</td>\n",
              "      <td>2.31</td>\n",
              "      <td>0.0</td>\n",
              "      <td>0.538</td>\n",
              "      <td>6.575</td>\n",
              "      <td>65.2</td>\n",
              "      <td>4.0900</td>\n",
              "      <td>1.0</td>\n",
              "      <td>296.0</td>\n",
              "      <td>15.3</td>\n",
              "      <td>396.90</td>\n",
              "      <td>4.98</td>\n",
              "    </tr>\n",
              "    <tr>\n",
              "      <th>1</th>\n",
              "      <td>0.02731</td>\n",
              "      <td>0.0</td>\n",
              "      <td>7.07</td>\n",
              "      <td>0.0</td>\n",
              "      <td>0.469</td>\n",
              "      <td>6.421</td>\n",
              "      <td>78.9</td>\n",
              "      <td>4.9671</td>\n",
              "      <td>2.0</td>\n",
              "      <td>242.0</td>\n",
              "      <td>17.8</td>\n",
              "      <td>396.90</td>\n",
              "      <td>9.14</td>\n",
              "    </tr>\n",
              "    <tr>\n",
              "      <th>2</th>\n",
              "      <td>0.02729</td>\n",
              "      <td>0.0</td>\n",
              "      <td>7.07</td>\n",
              "      <td>0.0</td>\n",
              "      <td>0.469</td>\n",
              "      <td>7.185</td>\n",
              "      <td>61.1</td>\n",
              "      <td>4.9671</td>\n",
              "      <td>2.0</td>\n",
              "      <td>242.0</td>\n",
              "      <td>17.8</td>\n",
              "      <td>392.83</td>\n",
              "      <td>4.03</td>\n",
              "    </tr>\n",
              "    <tr>\n",
              "      <th>3</th>\n",
              "      <td>0.03237</td>\n",
              "      <td>0.0</td>\n",
              "      <td>2.18</td>\n",
              "      <td>0.0</td>\n",
              "      <td>0.458</td>\n",
              "      <td>6.998</td>\n",
              "      <td>45.8</td>\n",
              "      <td>6.0622</td>\n",
              "      <td>3.0</td>\n",
              "      <td>222.0</td>\n",
              "      <td>18.7</td>\n",
              "      <td>394.63</td>\n",
              "      <td>2.94</td>\n",
              "    </tr>\n",
              "    <tr>\n",
              "      <th>4</th>\n",
              "      <td>0.06905</td>\n",
              "      <td>0.0</td>\n",
              "      <td>2.18</td>\n",
              "      <td>0.0</td>\n",
              "      <td>0.458</td>\n",
              "      <td>7.147</td>\n",
              "      <td>54.2</td>\n",
              "      <td>6.0622</td>\n",
              "      <td>3.0</td>\n",
              "      <td>222.0</td>\n",
              "      <td>18.7</td>\n",
              "      <td>396.90</td>\n",
              "      <td>5.33</td>\n",
              "    </tr>\n",
              "  </tbody>\n",
              "</table>\n",
              "</div>"
            ],
            "text/plain": [
              "        0     1     2    3      4      5     6       7    8      9     10  \\\n",
              "0  0.00632  18.0  2.31  0.0  0.538  6.575  65.2  4.0900  1.0  296.0  15.3   \n",
              "1  0.02731   0.0  7.07  0.0  0.469  6.421  78.9  4.9671  2.0  242.0  17.8   \n",
              "2  0.02729   0.0  7.07  0.0  0.469  7.185  61.1  4.9671  2.0  242.0  17.8   \n",
              "3  0.03237   0.0  2.18  0.0  0.458  6.998  45.8  6.0622  3.0  222.0  18.7   \n",
              "4  0.06905   0.0  2.18  0.0  0.458  7.147  54.2  6.0622  3.0  222.0  18.7   \n",
              "\n",
              "       11    12  \n",
              "0  396.90  4.98  \n",
              "1  396.90  9.14  \n",
              "2  392.83  4.03  \n",
              "3  394.63  2.94  \n",
              "4  396.90  5.33  "
            ]
          },
          "metadata": {
            "tags": []
          },
          "execution_count": 3
        }
      ]
    },
    {
      "metadata": {
        "id": "RuSiRLxo9g9d",
        "colab_type": "code",
        "outputId": "824c12b0-3463-475c-a621-00c261f54662",
        "colab": {
          "base_uri": "https://localhost:8080/",
          "height": 204
        }
      },
      "cell_type": "code",
      "source": [
        "bos.columns = boston.feature_names\n",
        "bos.head()\n"
      ],
      "execution_count": 0,
      "outputs": [
        {
          "output_type": "execute_result",
          "data": {
            "text/html": [
              "<div>\n",
              "<style scoped>\n",
              "    .dataframe tbody tr th:only-of-type {\n",
              "        vertical-align: middle;\n",
              "    }\n",
              "\n",
              "    .dataframe tbody tr th {\n",
              "        vertical-align: top;\n",
              "    }\n",
              "\n",
              "    .dataframe thead th {\n",
              "        text-align: right;\n",
              "    }\n",
              "</style>\n",
              "<table border=\"1\" class=\"dataframe\">\n",
              "  <thead>\n",
              "    <tr style=\"text-align: right;\">\n",
              "      <th></th>\n",
              "      <th>CRIM</th>\n",
              "      <th>ZN</th>\n",
              "      <th>INDUS</th>\n",
              "      <th>CHAS</th>\n",
              "      <th>NOX</th>\n",
              "      <th>RM</th>\n",
              "      <th>AGE</th>\n",
              "      <th>DIS</th>\n",
              "      <th>RAD</th>\n",
              "      <th>TAX</th>\n",
              "      <th>PTRATIO</th>\n",
              "      <th>B</th>\n",
              "      <th>LSTAT</th>\n",
              "    </tr>\n",
              "  </thead>\n",
              "  <tbody>\n",
              "    <tr>\n",
              "      <th>0</th>\n",
              "      <td>0.00632</td>\n",
              "      <td>18.0</td>\n",
              "      <td>2.31</td>\n",
              "      <td>0.0</td>\n",
              "      <td>0.538</td>\n",
              "      <td>6.575</td>\n",
              "      <td>65.2</td>\n",
              "      <td>4.0900</td>\n",
              "      <td>1.0</td>\n",
              "      <td>296.0</td>\n",
              "      <td>15.3</td>\n",
              "      <td>396.90</td>\n",
              "      <td>4.98</td>\n",
              "    </tr>\n",
              "    <tr>\n",
              "      <th>1</th>\n",
              "      <td>0.02731</td>\n",
              "      <td>0.0</td>\n",
              "      <td>7.07</td>\n",
              "      <td>0.0</td>\n",
              "      <td>0.469</td>\n",
              "      <td>6.421</td>\n",
              "      <td>78.9</td>\n",
              "      <td>4.9671</td>\n",
              "      <td>2.0</td>\n",
              "      <td>242.0</td>\n",
              "      <td>17.8</td>\n",
              "      <td>396.90</td>\n",
              "      <td>9.14</td>\n",
              "    </tr>\n",
              "    <tr>\n",
              "      <th>2</th>\n",
              "      <td>0.02729</td>\n",
              "      <td>0.0</td>\n",
              "      <td>7.07</td>\n",
              "      <td>0.0</td>\n",
              "      <td>0.469</td>\n",
              "      <td>7.185</td>\n",
              "      <td>61.1</td>\n",
              "      <td>4.9671</td>\n",
              "      <td>2.0</td>\n",
              "      <td>242.0</td>\n",
              "      <td>17.8</td>\n",
              "      <td>392.83</td>\n",
              "      <td>4.03</td>\n",
              "    </tr>\n",
              "    <tr>\n",
              "      <th>3</th>\n",
              "      <td>0.03237</td>\n",
              "      <td>0.0</td>\n",
              "      <td>2.18</td>\n",
              "      <td>0.0</td>\n",
              "      <td>0.458</td>\n",
              "      <td>6.998</td>\n",
              "      <td>45.8</td>\n",
              "      <td>6.0622</td>\n",
              "      <td>3.0</td>\n",
              "      <td>222.0</td>\n",
              "      <td>18.7</td>\n",
              "      <td>394.63</td>\n",
              "      <td>2.94</td>\n",
              "    </tr>\n",
              "    <tr>\n",
              "      <th>4</th>\n",
              "      <td>0.06905</td>\n",
              "      <td>0.0</td>\n",
              "      <td>2.18</td>\n",
              "      <td>0.0</td>\n",
              "      <td>0.458</td>\n",
              "      <td>7.147</td>\n",
              "      <td>54.2</td>\n",
              "      <td>6.0622</td>\n",
              "      <td>3.0</td>\n",
              "      <td>222.0</td>\n",
              "      <td>18.7</td>\n",
              "      <td>396.90</td>\n",
              "      <td>5.33</td>\n",
              "    </tr>\n",
              "  </tbody>\n",
              "</table>\n",
              "</div>"
            ],
            "text/plain": [
              "      CRIM    ZN  INDUS  CHAS    NOX     RM   AGE     DIS  RAD    TAX  \\\n",
              "0  0.00632  18.0   2.31   0.0  0.538  6.575  65.2  4.0900  1.0  296.0   \n",
              "1  0.02731   0.0   7.07   0.0  0.469  6.421  78.9  4.9671  2.0  242.0   \n",
              "2  0.02729   0.0   7.07   0.0  0.469  7.185  61.1  4.9671  2.0  242.0   \n",
              "3  0.03237   0.0   2.18   0.0  0.458  6.998  45.8  6.0622  3.0  222.0   \n",
              "4  0.06905   0.0   2.18   0.0  0.458  7.147  54.2  6.0622  3.0  222.0   \n",
              "\n",
              "   PTRATIO       B  LSTAT  \n",
              "0     15.3  396.90   4.98  \n",
              "1     17.8  396.90   9.14  \n",
              "2     17.8  392.83   4.03  \n",
              "3     18.7  394.63   2.94  \n",
              "4     18.7  396.90   5.33  "
            ]
          },
          "metadata": {
            "tags": []
          },
          "execution_count": 4
        }
      ]
    },
    {
      "metadata": {
        "id": "UU6A6zqj9g9t",
        "colab_type": "code",
        "outputId": "37396548-778a-418c-8f77-acc7702aa29f",
        "colab": {
          "base_uri": "https://localhost:8080/",
          "height": 34
        }
      },
      "cell_type": "code",
      "source": [
        "boston.target[:5]"
      ],
      "execution_count": 0,
      "outputs": [
        {
          "output_type": "execute_result",
          "data": {
            "text/plain": [
              "array([24. , 21.6, 34.7, 33.4, 36.2])"
            ]
          },
          "metadata": {
            "tags": []
          },
          "execution_count": 5
        }
      ]
    },
    {
      "metadata": {
        "id": "CEiVVtlc9g97",
        "colab_type": "text"
      },
      "cell_type": "markdown",
      "source": [
        "boston.target contains the housing prices\n",
        "\n",
        "We are going to add these target prices to the bos data frame."
      ]
    },
    {
      "metadata": {
        "id": "4U3YE86C9g9_",
        "colab_type": "code",
        "outputId": "2c083f9c-ac2b-46f7-a1fa-686dd08c2565",
        "colab": {
          "base_uri": "https://localhost:8080/",
          "height": 204
        }
      },
      "cell_type": "code",
      "source": [
        "bos['PRICE'] = boston.target \n",
        "bos.head()"
      ],
      "execution_count": 0,
      "outputs": [
        {
          "output_type": "execute_result",
          "data": {
            "text/html": [
              "<div>\n",
              "<style scoped>\n",
              "    .dataframe tbody tr th:only-of-type {\n",
              "        vertical-align: middle;\n",
              "    }\n",
              "\n",
              "    .dataframe tbody tr th {\n",
              "        vertical-align: top;\n",
              "    }\n",
              "\n",
              "    .dataframe thead th {\n",
              "        text-align: right;\n",
              "    }\n",
              "</style>\n",
              "<table border=\"1\" class=\"dataframe\">\n",
              "  <thead>\n",
              "    <tr style=\"text-align: right;\">\n",
              "      <th></th>\n",
              "      <th>CRIM</th>\n",
              "      <th>ZN</th>\n",
              "      <th>INDUS</th>\n",
              "      <th>CHAS</th>\n",
              "      <th>NOX</th>\n",
              "      <th>RM</th>\n",
              "      <th>AGE</th>\n",
              "      <th>DIS</th>\n",
              "      <th>RAD</th>\n",
              "      <th>TAX</th>\n",
              "      <th>PTRATIO</th>\n",
              "      <th>B</th>\n",
              "      <th>LSTAT</th>\n",
              "      <th>PRICE</th>\n",
              "    </tr>\n",
              "  </thead>\n",
              "  <tbody>\n",
              "    <tr>\n",
              "      <th>0</th>\n",
              "      <td>0.00632</td>\n",
              "      <td>18.0</td>\n",
              "      <td>2.31</td>\n",
              "      <td>0.0</td>\n",
              "      <td>0.538</td>\n",
              "      <td>6.575</td>\n",
              "      <td>65.2</td>\n",
              "      <td>4.0900</td>\n",
              "      <td>1.0</td>\n",
              "      <td>296.0</td>\n",
              "      <td>15.3</td>\n",
              "      <td>396.90</td>\n",
              "      <td>4.98</td>\n",
              "      <td>24.0</td>\n",
              "    </tr>\n",
              "    <tr>\n",
              "      <th>1</th>\n",
              "      <td>0.02731</td>\n",
              "      <td>0.0</td>\n",
              "      <td>7.07</td>\n",
              "      <td>0.0</td>\n",
              "      <td>0.469</td>\n",
              "      <td>6.421</td>\n",
              "      <td>78.9</td>\n",
              "      <td>4.9671</td>\n",
              "      <td>2.0</td>\n",
              "      <td>242.0</td>\n",
              "      <td>17.8</td>\n",
              "      <td>396.90</td>\n",
              "      <td>9.14</td>\n",
              "      <td>21.6</td>\n",
              "    </tr>\n",
              "    <tr>\n",
              "      <th>2</th>\n",
              "      <td>0.02729</td>\n",
              "      <td>0.0</td>\n",
              "      <td>7.07</td>\n",
              "      <td>0.0</td>\n",
              "      <td>0.469</td>\n",
              "      <td>7.185</td>\n",
              "      <td>61.1</td>\n",
              "      <td>4.9671</td>\n",
              "      <td>2.0</td>\n",
              "      <td>242.0</td>\n",
              "      <td>17.8</td>\n",
              "      <td>392.83</td>\n",
              "      <td>4.03</td>\n",
              "      <td>34.7</td>\n",
              "    </tr>\n",
              "    <tr>\n",
              "      <th>3</th>\n",
              "      <td>0.03237</td>\n",
              "      <td>0.0</td>\n",
              "      <td>2.18</td>\n",
              "      <td>0.0</td>\n",
              "      <td>0.458</td>\n",
              "      <td>6.998</td>\n",
              "      <td>45.8</td>\n",
              "      <td>6.0622</td>\n",
              "      <td>3.0</td>\n",
              "      <td>222.0</td>\n",
              "      <td>18.7</td>\n",
              "      <td>394.63</td>\n",
              "      <td>2.94</td>\n",
              "      <td>33.4</td>\n",
              "    </tr>\n",
              "    <tr>\n",
              "      <th>4</th>\n",
              "      <td>0.06905</td>\n",
              "      <td>0.0</td>\n",
              "      <td>2.18</td>\n",
              "      <td>0.0</td>\n",
              "      <td>0.458</td>\n",
              "      <td>7.147</td>\n",
              "      <td>54.2</td>\n",
              "      <td>6.0622</td>\n",
              "      <td>3.0</td>\n",
              "      <td>222.0</td>\n",
              "      <td>18.7</td>\n",
              "      <td>396.90</td>\n",
              "      <td>5.33</td>\n",
              "      <td>36.2</td>\n",
              "    </tr>\n",
              "  </tbody>\n",
              "</table>\n",
              "</div>"
            ],
            "text/plain": [
              "      CRIM    ZN  INDUS  CHAS    NOX     RM   AGE     DIS  RAD    TAX  \\\n",
              "0  0.00632  18.0   2.31   0.0  0.538  6.575  65.2  4.0900  1.0  296.0   \n",
              "1  0.02731   0.0   7.07   0.0  0.469  6.421  78.9  4.9671  2.0  242.0   \n",
              "2  0.02729   0.0   7.07   0.0  0.469  7.185  61.1  4.9671  2.0  242.0   \n",
              "3  0.03237   0.0   2.18   0.0  0.458  6.998  45.8  6.0622  3.0  222.0   \n",
              "4  0.06905   0.0   2.18   0.0  0.458  7.147  54.2  6.0622  3.0  222.0   \n",
              "\n",
              "   PTRATIO       B  LSTAT  PRICE  \n",
              "0     15.3  396.90   4.98   24.0  \n",
              "1     17.8  396.90   9.14   21.6  \n",
              "2     17.8  392.83   4.03   34.7  \n",
              "3     18.7  394.63   2.94   33.4  \n",
              "4     18.7  396.90   5.33   36.2  "
            ]
          },
          "metadata": {
            "tags": []
          },
          "execution_count": 6
        }
      ]
    },
    {
      "metadata": {
        "id": "rNYbOi139g-N",
        "colab_type": "text"
      },
      "cell_type": "markdown",
      "source": [
        "## Scikit Learn\n",
        "\n",
        "In this section I am going to  fit a linear regression model and predict the Boston housing prices. I will use the least squares method as the way to estimate the coefficients.\n",
        "\n",
        "Y = boston housing price(also called “target” data in Python)\n",
        "\n",
        "and\n",
        "\n",
        "X = all the other features (or independent variables)\n",
        "\n",
        "First, I am going to import linear regression from sci-kit learn module. Then I am going to _drop_ the price column as I want only the parameters as my X values.  I am going to store linear regression object in a variable called lm."
      ]
    },
    {
      "metadata": {
        "id": "XMk1FsSi9g-R",
        "colab_type": "code",
        "outputId": "54e9a411-1b66-4511-c610-199546466a43",
        "colab": {
          "base_uri": "https://localhost:8080/",
          "height": 51
        }
      },
      "cell_type": "code",
      "source": [
        "from sklearn.linear_model import LinearRegression\n",
        "X = bos.drop('PRICE', axis = 1)\n",
        "\n",
        "# This creates a LinearRegression object\n",
        "lm =  LinearRegression()\n",
        "lm\n",
        "\n",
        "#  LinearRegression. + <tab> for more information about the function"
      ],
      "execution_count": 0,
      "outputs": [
        {
          "output_type": "execute_result",
          "data": {
            "text/plain": [
              "LinearRegression(copy_X=True, fit_intercept=True, n_jobs=None,\n",
              "         normalize=False)"
            ]
          },
          "metadata": {
            "tags": []
          },
          "execution_count": 7
        }
      ]
    },
    {
      "metadata": {
        "id": "Uvd4uxsN9g-g",
        "colab_type": "text"
      },
      "cell_type": "markdown",
      "source": [
        "Important functions to keep in mind while fitting a linear regression model are:\n",
        "\n",
        "__lm.fit() ->__ _fits a linear model_\n",
        "\n",
        "__lm.predict() ->__ _Predict Y using the linear model with estimated coefficients_\n",
        "\n",
        "__lm.score() ->__ _Returns the coefficient of determination (R^2). A measure of how well observed outcomes are replicated by the model, as the proportion of total variation of outcomes explained by the model._ \n",
        "\n",
        "You can also explore the functions inside lm object by pressing lm.<tab>"
      ]
    },
    {
      "metadata": {
        "id": "Xq4QMU389g-j",
        "colab_type": "code",
        "outputId": "6924ab77-3a95-4610-e9d7-e41ce5fd302b",
        "colab": {
          "base_uri": "https://localhost:8080/",
          "height": 51
        }
      },
      "cell_type": "code",
      "source": [
        "lm.predict"
      ],
      "execution_count": 0,
      "outputs": [
        {
          "output_type": "execute_result",
          "data": {
            "text/plain": [
              "<bound method LinearModel.predict of LinearRegression(copy_X=True, fit_intercept=True, n_jobs=None,\n",
              "         normalize=False)>"
            ]
          },
          "metadata": {
            "tags": []
          },
          "execution_count": 8
        }
      ]
    },
    {
      "metadata": {
        "id": "nj-XTjOp9g-y",
        "colab_type": "text"
      },
      "cell_type": "markdown",
      "source": [
        "## Fitting a Linear Model\n",
        "\n",
        "I am going to use all 13 parameters to fit a linear regression  model.  Two other parameters that you can pass to linear regression object are fit_intercept and normalize.\n",
        "\n",
        "In [20]: lm.fit(X, bos.PRICE)\n",
        "\n",
        "Out[20]: LinearRegression(copy_X=True, fit_intercept=True, normalize=False)\n",
        "\n",
        "I am going to print the intercept and number of coefficients."
      ]
    },
    {
      "metadata": {
        "id": "DA6-HUMa9g-2",
        "colab_type": "code",
        "outputId": "ec2b4ab5-d201-4e8d-8f33-1eca883b339d",
        "colab": {
          "base_uri": "https://localhost:8080/",
          "height": 51
        }
      },
      "cell_type": "code",
      "source": [
        "lm.fit(X, bos.PRICE)"
      ],
      "execution_count": 0,
      "outputs": [
        {
          "output_type": "execute_result",
          "data": {
            "text/plain": [
              "LinearRegression(copy_X=True, fit_intercept=True, n_jobs=None,\n",
              "         normalize=False)"
            ]
          },
          "metadata": {
            "tags": []
          },
          "execution_count": 9
        }
      ]
    },
    {
      "metadata": {
        "id": "LXQTk6HD9g_J",
        "colab_type": "code",
        "outputId": "fa4ba60e-15a4-4163-8a66-910e1ccf5b25",
        "colab": {
          "base_uri": "https://localhost:8080/",
          "height": 34
        }
      },
      "cell_type": "code",
      "source": [
        "print('Estimated intercept coefficient:', lm.intercept_)"
      ],
      "execution_count": 0,
      "outputs": [
        {
          "output_type": "stream",
          "text": [
            "Estimated intercept coefficient: 36.45948838508978\n"
          ],
          "name": "stdout"
        }
      ]
    },
    {
      "metadata": {
        "id": "SPY1XUHv9g_Y",
        "colab_type": "code",
        "outputId": "67947543-5e22-4b15-9ae9-b25e7fadd6cc",
        "colab": {
          "base_uri": "https://localhost:8080/",
          "height": 85
        }
      },
      "cell_type": "code",
      "source": [
        "print(lm.coef_)\n"
      ],
      "execution_count": 0,
      "outputs": [
        {
          "output_type": "stream",
          "text": [
            "[-1.08011358e-01  4.64204584e-02  2.05586264e-02  2.68673382e+00\n",
            " -1.77666112e+01  3.80986521e+00  6.92224640e-04 -1.47556685e+00\n",
            "  3.06049479e-01 -1.23345939e-02 -9.52747232e-01  9.31168327e-03\n",
            " -5.24758378e-01]\n"
          ],
          "name": "stdout"
        }
      ]
    },
    {
      "metadata": {
        "id": "rNRkTH-59g_l",
        "colab_type": "code",
        "outputId": "411e45fa-5e90-4083-8257-9819d24faaad",
        "colab": {
          "base_uri": "https://localhost:8080/",
          "height": 34
        }
      },
      "cell_type": "code",
      "source": [
        "print('Number of coefficients:', len(lm.coef_))"
      ],
      "execution_count": 0,
      "outputs": [
        {
          "output_type": "stream",
          "text": [
            "Number of coefficients: 13\n"
          ],
          "name": "stdout"
        }
      ]
    },
    {
      "metadata": {
        "id": "b4DEMUfV9g_5",
        "colab_type": "text"
      },
      "cell_type": "markdown",
      "source": [
        "I then construct a data frame that contains features and estimated coefficients"
      ]
    },
    {
      "metadata": {
        "id": "6J4z7Al_9g_8",
        "colab_type": "code",
        "colab": {}
      },
      "cell_type": "code",
      "source": [
        "#pd.DataFrame(zip(X.columns, lm.coef_), columns = ['features', 'estimated'])"
      ],
      "execution_count": 0,
      "outputs": []
    },
    {
      "metadata": {
        "id": "bX_-cMIM9hAb",
        "colab_type": "code",
        "outputId": "9918f8ff-7112-424e-925b-8e32a6e63f0d",
        "colab": {
          "base_uri": "https://localhost:8080/",
          "height": 376
        }
      },
      "cell_type": "code",
      "source": [
        "plt.scatter(bos.RM, bos.PRICE)\n",
        "plt.xlabel(\"Averange number of rooms per dwelling (RM)\")\n",
        "plt.ylabel(\"Housing Price\")\n",
        "plt.title(\"Relatioship between RM ans Price\")\n",
        "plt.show()"
      ],
      "execution_count": 0,
      "outputs": [
        {
          "output_type": "display_data",
          "data": {
            "image/png": "[encoded data removed]",
            "text/plain": [
              "<Figure size 576x396 with 1 Axes>"
            ]
          },
          "metadata": {
            "tags": []
          }
        }
      ]
    },
    {
      "metadata": {
        "id": "-DVD8kI-9hAw",
        "colab_type": "text"
      },
      "cell_type": "markdown",
      "source": [
        "## Predicting Prices\n",
        "\n",
        "\n",
        "I am going to calculate the predicted prices (Y^i)  using _lm.predict._ Then I display the first 5 housing prices. These are my predicted housing prices.\n",
        "\n"
      ]
    },
    {
      "metadata": {
        "id": "1HjZT1Lb9hA2",
        "colab_type": "code",
        "outputId": "12743df6-0a1d-4c02-f784-50dc59a0b340",
        "colab": {
          "base_uri": "https://localhost:8080/",
          "height": 1751
        }
      },
      "cell_type": "code",
      "source": [
        "lm.predict(X)"
      ],
      "execution_count": 0,
      "outputs": [
        {
          "output_type": "execute_result",
          "data": {
            "text/plain": [
              "array([30.00384338, 25.02556238, 30.56759672, 28.60703649, 27.94352423,\n",
              "       25.25628446, 23.00180827, 19.53598843, 11.52363685, 18.92026211,\n",
              "       18.99949651, 21.58679568, 20.90652153, 19.55290281, 19.28348205,\n",
              "       19.29748321, 20.52750979, 16.91140135, 16.17801106, 18.40613603,\n",
              "       12.52385753, 17.67103669, 15.83288129, 13.80628535, 15.67833832,\n",
              "       13.38668561, 15.46397655, 14.70847428, 19.54737285, 20.8764282 ,\n",
              "       11.45511759, 18.05923295,  8.81105736, 14.28275814, 13.70675891,\n",
              "       23.81463526, 22.34193708, 23.10891142, 22.91502612, 31.35762569,\n",
              "       34.21510225, 28.02056414, 25.20386628, 24.60979273, 22.94149176,\n",
              "       22.09669817, 20.42320032, 18.03655088,  9.10655377, 17.20607751,\n",
              "       21.28152535, 23.97222285, 27.6558508 , 24.04901809, 15.3618477 ,\n",
              "       31.15264947, 24.85686978, 33.10919806, 21.77537987, 21.08493555,\n",
              "       17.8725804 , 18.51110208, 23.98742856, 22.55408869, 23.37308644,\n",
              "       30.36148358, 25.53056512, 21.11338564, 17.42153786, 20.78483633,\n",
              "       25.20148859, 21.7426577 , 24.55744957, 24.04295712, 25.50499716,\n",
              "       23.9669302 , 22.94545403, 23.35699818, 21.26198266, 22.42817373,\n",
              "       28.40576968, 26.99486086, 26.03576297, 25.05873482, 24.78456674,\n",
              "       27.79049195, 22.16853423, 25.89276415, 30.67461827, 30.83110623,\n",
              "       27.1190194 , 27.41266734, 28.94122762, 29.08105546, 27.03977365,\n",
              "       28.62459949, 24.72744978, 35.78159518, 35.11454587, 32.25102801,\n",
              "       24.58022019, 25.59413475, 19.79013684, 20.31167129, 21.43482591,\n",
              "       18.53994008, 17.18755992, 20.75049026, 22.64829115, 19.7720367 ,\n",
              "       20.64965864, 26.52586744, 20.77323638, 20.71548315, 25.17208881,\n",
              "       20.43025591, 23.37724626, 23.69043261, 20.33578364, 20.79180873,\n",
              "       21.91632071, 22.47107777, 20.55738556, 16.36661977, 20.56099819,\n",
              "       22.48178446, 14.61706633, 15.17876684, 18.93868592, 14.05573285,\n",
              "       20.03527399, 19.41013402, 20.06191566, 15.75807673, 13.25645238,\n",
              "       17.26277735, 15.87841883, 19.36163954, 13.81483897, 16.44881475,\n",
              "       13.57141932,  3.98885508, 14.59495478, 12.1488148 ,  8.72822362,\n",
              "       12.03585343, 15.82082058,  8.5149902 ,  9.71844139, 14.80451374,\n",
              "       20.83858153, 18.30101169, 20.12282558, 17.28601894, 22.36600228,\n",
              "       20.10375923, 13.62125891, 33.25982697, 29.03017268, 25.56752769,\n",
              "       32.70827666, 36.77467015, 40.55765844, 41.84728168, 24.78867379,\n",
              "       25.37889238, 37.20347455, 23.08748747, 26.40273955, 26.65382114,\n",
              "       22.5551466 , 24.29082812, 22.97657219, 29.07194308, 26.5219434 ,\n",
              "       30.72209056, 25.61669307, 29.13740979, 31.43571968, 32.92231568,\n",
              "       34.72440464, 27.76552111, 33.88787321, 30.99238036, 22.71820008,\n",
              "       24.7664781 , 35.88497226, 33.42476722, 32.41199147, 34.51509949,\n",
              "       30.76109485, 30.28934141, 32.91918714, 32.11260771, 31.55871004,\n",
              "       40.84555721, 36.12770079, 32.6692081 , 34.70469116, 30.09345162,\n",
              "       30.64393906, 29.28719501, 37.07148392, 42.03193124, 43.18949844,\n",
              "       22.69034796, 23.68284712, 17.85447214, 23.49428992, 17.00587718,\n",
              "       22.39251096, 17.06042754, 22.73892921, 25.21942554, 11.11916737,\n",
              "       24.51049148, 26.60334775, 28.35518713, 24.91525464, 29.68652768,\n",
              "       33.18419746, 23.77456656, 32.14051958, 29.7458199 , 38.37102453,\n",
              "       39.81461867, 37.58605755, 32.3995325 , 35.45665242, 31.23411512,\n",
              "       24.48449227, 33.28837292, 38.0481048 , 37.16328631, 31.71383523,\n",
              "       25.26705571, 30.10010745, 32.71987156, 28.42717057, 28.42940678,\n",
              "       27.29375938, 23.74262478, 24.12007891, 27.40208414, 16.3285756 ,\n",
              "       13.39891261, 20.01638775, 19.86184428, 21.2883131 , 24.0798915 ,\n",
              "       24.20633547, 25.04215821, 24.91964007, 29.94563374, 23.97228316,\n",
              "       21.69580887, 37.51109239, 43.30239043, 36.48361421, 34.98988594,\n",
              "       34.81211508, 37.16631331, 40.98928501, 34.44634089, 35.83397547,\n",
              "       28.245743  , 31.22673593, 40.8395575 , 39.31792393, 25.70817905,\n",
              "       22.30295533, 27.20340972, 28.51169472, 35.47676598, 36.10639164,\n",
              "       33.79668274, 35.61085858, 34.83993382, 30.35192656, 35.30980701,\n",
              "       38.79756966, 34.33123186, 40.33963075, 44.67308339, 31.59689086,\n",
              "       27.3565923 , 20.10174154, 27.04206674, 27.2136458 , 26.91395839,\n",
              "       33.43563311, 34.40349633, 31.8333982 , 25.81783237, 24.42982348,\n",
              "       28.45764337, 27.36266999, 19.53928758, 29.11309844, 31.91054611,\n",
              "       30.77159449, 28.94275871, 28.88191022, 32.79887232, 33.20905456,\n",
              "       30.76831792, 35.56226857, 32.70905124, 28.64244237, 23.58965827,\n",
              "       18.54266897, 26.87889843, 23.28133979, 25.54580246, 25.48120057,\n",
              "       20.53909901, 17.61572573, 18.37581686, 24.29070277, 21.32529039,\n",
              "       24.88682244, 24.86937282, 22.86952447, 19.45123791, 25.11783401,\n",
              "       24.66786913, 23.68076177, 19.34089616, 21.17418105, 24.25249073,\n",
              "       21.59260894, 19.98446605, 23.33888   , 22.14060692, 21.55509929,\n",
              "       20.61872907, 20.16097176, 19.28490387, 22.1667232 , 21.24965774,\n",
              "       21.42939305, 30.32788796, 22.04734975, 27.70647912, 28.54794117,\n",
              "       16.54501121, 14.78359641, 25.27380082, 27.54205117, 22.14837562,\n",
              "       20.45944095, 20.54605423, 16.88063827, 25.40253506, 14.32486632,\n",
              "       16.59488462, 19.63704691, 22.71806607, 22.20218887, 19.20548057,\n",
              "       22.66616105, 18.93192618, 18.22846804, 20.23150811, 37.4944739 ,\n",
              "       14.28190734, 15.54286248, 10.83162324, 23.80072902, 32.6440736 ,\n",
              "       34.60684042, 24.94331333, 25.9998091 ,  6.126325  ,  0.77779806,\n",
              "       25.30713064, 17.74061065, 20.23274414, 15.83331301, 16.83512587,\n",
              "       14.36994825, 18.47682833, 13.4276828 , 13.06177512,  3.27918116,\n",
              "        8.06022171,  6.12842196,  5.6186481 ,  6.4519857 , 14.20764735,\n",
              "       17.21225183, 17.29887265,  9.89116643, 20.22124193, 17.94181175,\n",
              "       20.30445783, 19.29559075, 16.33632779,  6.55162319, 10.89016778,\n",
              "       11.88145871, 17.81174507, 18.26126587, 12.97948781,  7.37816361,\n",
              "        8.21115861,  8.06626193, 19.98294786, 13.70756369, 19.85268454,\n",
              "       15.22308298, 16.96071981,  1.71851807, 11.80578387, -4.28131071,\n",
              "        9.58376737, 13.36660811,  6.89562363,  6.14779852, 14.60661794,\n",
              "       19.6000267 , 18.12427476, 18.52177132, 13.1752861 , 14.62617624,\n",
              "        9.92374976, 16.34590647, 14.07519426, 14.25756243, 13.04234787,\n",
              "       18.15955693, 18.69554354, 21.527283  , 17.03141861, 15.96090435,\n",
              "       13.36141611, 14.52079384,  8.81976005,  4.86751102, 13.06591313,\n",
              "       12.70609699, 17.29558059, 18.740485  , 18.05901029, 11.51474683,\n",
              "       11.97400359, 17.68344618, 18.12695239, 17.5183465 , 17.22742507,\n",
              "       16.52271631, 19.41291095, 18.58215236, 22.48944791, 15.28000133,\n",
              "       15.82089335, 12.68725581, 12.8763379 , 17.18668531, 18.51247609,\n",
              "       19.04860533, 20.17208927, 19.7740732 , 22.42940768, 20.31911854,\n",
              "       17.88616253, 14.37478523, 16.94776851, 16.98405762, 18.58838397,\n",
              "       20.16719441, 22.97718032, 22.45580726, 25.57824627, 16.39147632,\n",
              "       16.1114628 , 20.534816  , 11.54272738, 19.20496304, 21.86276391,\n",
              "       23.46878866, 27.09887315, 28.56994302, 21.08398783, 19.45516196,\n",
              "       22.22225914, 19.65591961, 21.32536104, 11.85583717,  8.22386687,\n",
              "        3.66399672, 13.75908538, 15.93118545, 20.62662054, 20.61249414,\n",
              "       16.88541964, 14.01320787, 19.10854144, 21.29805174, 18.45498841,\n",
              "       20.46870847, 23.53334055, 22.37571892, 27.6274261 , 26.12796681,\n",
              "       22.34421229])"
            ]
          },
          "metadata": {
            "tags": []
          },
          "execution_count": 15
        }
      ]
    },
    {
      "metadata": {
        "id": "6gKBC1nS9hBI",
        "colab_type": "code",
        "outputId": "34e38b91-f899-4828-802a-c0fd9f08460d",
        "colab": {
          "base_uri": "https://localhost:8080/",
          "height": 34
        }
      },
      "cell_type": "code",
      "source": [
        "lm.predict(X)[0:5]"
      ],
      "execution_count": 0,
      "outputs": [
        {
          "output_type": "execute_result",
          "data": {
            "text/plain": [
              "array([30.00384338, 25.02556238, 30.56759672, 28.60703649, 27.94352423])"
            ]
          },
          "metadata": {
            "tags": []
          },
          "execution_count": 16
        }
      ]
    },
    {
      "metadata": {
        "id": "XKhuSFgN9hBa",
        "colab_type": "text"
      },
      "cell_type": "markdown",
      "source": [
        "Then I plot a scatter plot to compare true prices and the predicted prices."
      ]
    },
    {
      "metadata": {
        "id": "rdUZ9OmX9hBg",
        "colab_type": "code",
        "outputId": "7358184d-50ad-412a-f11a-3e94114099f9",
        "colab": {
          "base_uri": "https://localhost:8080/",
          "height": 404
        }
      },
      "cell_type": "code",
      "source": [
        "plt.scatter(bos.PRICE, lm.predict(X))\n",
        "plt.xlabel(\"Prices: $Y_i$\")\n",
        "plt.ylabel(\"Predited prices: $\\hat{Y}_i$\")\n",
        "plt.title(\"Prices vs Predited prices: $Y_i$ vs $\\hat{Y}_i$\")"
      ],
      "execution_count": 0,
      "outputs": [
        {
          "output_type": "execute_result",
          "data": {
            "text/plain": [
              "Text(0.5, 1.0, 'Prices vs Predited prices: $Y_i$ vs $\\\\hat{Y}_i$')"
            ]
          },
          "metadata": {
            "tags": []
          },
          "execution_count": 17
        },
        {
          "output_type": "display_data",
          "data": {
            "image/png": "[encoded data removed]",
            "text/plain": [
              "<Figure size 576x396 with 1 Axes>"
            ]
          },
          "metadata": {
            "tags": []
          }
        }
      ]
    },
    {
      "metadata": {
        "id": "uhtS-kIA9hBv",
        "colab_type": "text"
      },
      "cell_type": "markdown",
      "source": [
        "## Mean Squared Error "
      ]
    },
    {
      "metadata": {
        "id": "PQ78QI1P9hBy",
        "colab_type": "code",
        "outputId": "b1e008e3-aba7-4768-baa7-110d3ce1acef",
        "colab": {
          "base_uri": "https://localhost:8080/",
          "height": 34
        }
      },
      "cell_type": "code",
      "source": [
        "msFull = np.mean((bos.PRICE - lm.predict(X)) **2)\n",
        "print(msFull)"
      ],
      "execution_count": 0,
      "outputs": [
        {
          "output_type": "stream",
          "text": [
            "21.89483118172921\n"
          ],
          "name": "stdout"
        }
      ]
    },
    {
      "metadata": {
        "id": "AU7XP6vt9hB_",
        "colab_type": "code",
        "outputId": "2b95aa11-a5e2-47b5-f737-700dc0d9db69",
        "colab": {
          "base_uri": "https://localhost:8080/",
          "height": 51
        }
      },
      "cell_type": "code",
      "source": [
        "lm.fit(X[['PTRATIO']], bos.PRICE)"
      ],
      "execution_count": 0,
      "outputs": [
        {
          "output_type": "execute_result",
          "data": {
            "text/plain": [
              "LinearRegression(copy_X=True, fit_intercept=True, n_jobs=None,\n",
              "         normalize=False)"
            ]
          },
          "metadata": {
            "tags": []
          },
          "execution_count": 19
        }
      ]
    },
    {
      "metadata": {
        "id": "MjMdUHJm9hCN",
        "colab_type": "code",
        "outputId": "a3804e6d-0961-4fe4-820e-62f6425390c7",
        "colab": {
          "base_uri": "https://localhost:8080/",
          "height": 34
        }
      },
      "cell_type": "code",
      "source": [
        "msPTRATIO = np.mean((bos.PRICE - lm.predict(X[['PTRATIO']])) **2 )\n",
        "print(msPTRATIO)"
      ],
      "execution_count": 0,
      "outputs": [
        {
          "output_type": "stream",
          "text": [
            "62.65220001376923\n"
          ],
          "name": "stdout"
        }
      ]
    },
    {
      "metadata": {
        "id": "Yo4nZsLi9hCk",
        "colab_type": "text"
      },
      "cell_type": "markdown",
      "source": [
        "## Training and validation data sets\n",
        "\n",
        "In practice you wont implement linear regression on the entire data set, you will have to split the data sets into training and test data sets. So that you train your model on training data and see how well it performed on test data.\n",
        "\n",
        "_How not to do train-test split:_\n",
        "\n",
        "You have to divide your data sets randomly. Scikit learn provides a function called train_test_split to do this."
      ]
    },
    {
      "metadata": {
        "id": "gPQEA_PQ9hCp",
        "colab_type": "code",
        "outputId": "e5af9476-5e94-40a0-a765-9ec2f8e535ed",
        "colab": {
          "base_uri": "https://localhost:8080/",
          "height": 367
        }
      },
      "cell_type": "code",
      "source": [
        "from sklearn.cross_validation import train_test_split\n",
        "X_train, X_test, Y_train, Y_test = train_test_split(X, bos.PRICE, test_size=0.33, random_state = 5)\n",
        "print(X_train.shape)\n",
        "print(X_test.shape)\n",
        "print(Y_train.shape)\n",
        "print(Y_test.shape)\n",
        "#sklearn."
      ],
      "execution_count": 0,
      "outputs": [
        {
          "output_type": "error",
          "ename": "ModuleNotFoundError",
          "evalue": "ignored",
          "traceback": [
            "\u001b[0;31m---------------------------------------------------------------------------\u001b[0m",
            "\u001b[0;31mModuleNotFoundError\u001b[0m                       Traceback (most recent call last)",
            "\u001b[0;32m<ipython-input-21-cc3918c1e95b>\u001b[0m in \u001b[0;36m<module>\u001b[0;34m()\u001b[0m\n\u001b[0;32m----> 1\u001b[0;31m \u001b[0;32mfrom\u001b[0m \u001b[0msklearn\u001b[0m\u001b[0;34m.\u001b[0m\u001b[0mcross_validation\u001b[0m \u001b[0;32mimport\u001b[0m \u001b[0mtrain_test_split\u001b[0m\u001b[0;34m\u001b[0m\u001b[0;34m\u001b[0m\u001b[0m\n\u001b[0m\u001b[1;32m      2\u001b[0m \u001b[0mX_train\u001b[0m\u001b[0;34m,\u001b[0m \u001b[0mX_test\u001b[0m\u001b[0;34m,\u001b[0m \u001b[0mY_train\u001b[0m\u001b[0;34m,\u001b[0m \u001b[0mY_test\u001b[0m \u001b[0;34m=\u001b[0m \u001b[0mtrain_test_split\u001b[0m\u001b[0;34m(\u001b[0m\u001b[0mX\u001b[0m\u001b[0;34m,\u001b[0m \u001b[0mbos\u001b[0m\u001b[0;34m.\u001b[0m\u001b[0mPRICE\u001b[0m\u001b[0;34m,\u001b[0m \u001b[0mtest_size\u001b[0m\u001b[0;34m=\u001b[0m\u001b[0;36m0.33\u001b[0m\u001b[0;34m,\u001b[0m \u001b[0mrandom_state\u001b[0m \u001b[0;34m=\u001b[0m \u001b[0;36m5\u001b[0m\u001b[0;34m)\u001b[0m\u001b[0;34m\u001b[0m\u001b[0;34m\u001b[0m\u001b[0m\n\u001b[1;32m      3\u001b[0m \u001b[0mprint\u001b[0m\u001b[0;34m(\u001b[0m\u001b[0mX_train\u001b[0m\u001b[0;34m.\u001b[0m\u001b[0mshape\u001b[0m\u001b[0;34m)\u001b[0m\u001b[0;34m\u001b[0m\u001b[0;34m\u001b[0m\u001b[0m\n\u001b[1;32m      4\u001b[0m \u001b[0mprint\u001b[0m\u001b[0;34m(\u001b[0m\u001b[0mX_test\u001b[0m\u001b[0;34m.\u001b[0m\u001b[0mshape\u001b[0m\u001b[0;34m)\u001b[0m\u001b[0;34m\u001b[0m\u001b[0;34m\u001b[0m\u001b[0m\n\u001b[1;32m      5\u001b[0m \u001b[0mprint\u001b[0m\u001b[0;34m(\u001b[0m\u001b[0mY_train\u001b[0m\u001b[0;34m.\u001b[0m\u001b[0mshape\u001b[0m\u001b[0;34m)\u001b[0m\u001b[0;34m\u001b[0m\u001b[0;34m\u001b[0m\u001b[0m\n",
            "\u001b[0;31mModuleNotFoundError\u001b[0m: No module named 'sklearn.cross_validation'",
            "",
            "\u001b[0;31m---------------------------------------------------------------------------\u001b[0;32m\nNOTE: If your import is failing due to a missing package, you can\nmanually install dependencies using either !pip or !apt.\n\nTo view examples of installing some common dependencies, click the\n\"Open Examples\" button below.\n\u001b[0;31m---------------------------------------------------------------------------\u001b[0m\n"
          ]
        }
      ]
    },
    {
      "metadata": {
        "id": "aNO2DrWg9hC4",
        "colab_type": "code",
        "colab": {}
      },
      "cell_type": "code",
      "source": [
        "lm = LinearRegression()\n",
        "lm.fit(X_train, Y_train)\n",
        "pred_train = lm.predict(X_train)\n",
        "pred_test = lm.predict(X_test)\n",
        "\n",
        "print(\"Fit a model X_train, and calculate MSE with Y_train:\", np.mean((Y_train - lm.predict(X_train))**2))\n",
        "print(\"Fit a model X_train, and calculate MSE with X_test, Y_test:\", np.mean((Y_test - lm.predict(X_test))**2))"
      ],
      "execution_count": 0,
      "outputs": []
    },
    {
      "metadata": {
        "id": "5xMs6tWL9hDG",
        "colab_type": "text"
      },
      "cell_type": "markdown",
      "source": [
        "## Residual Plots \n",
        "\n",
        "Residual plots are a good way to visualize the errors in your data.  If you have done a good job then your data should be randomly scattered around line zero. If you see structure in your data, that means your model is not capturing some thing. Maye be there is a interaction between 2 variables that you are not considering, or may be you are measuring time dependent data. If you get some structure in your data, you should go back to your model and check whether you are doing a good job with your parameters."
      ]
    },
    {
      "metadata": {
        "id": "8ZoAJDzF9hDK",
        "colab_type": "code",
        "outputId": "16b8e45a-dc04-4900-f474-3e7d3f852bea",
        "colab": {
          "base_uri": "https://localhost:8080/",
          "height": 231
        }
      },
      "cell_type": "code",
      "source": [
        "plt.scatter(lm.predict(X_train), lm.predict(X_train) - Y_train, c = 'b', s = 40, alpha = 0.5)\n",
        "plt.scatter(lm.predict(X_test), lm.predict(X_test) - Y_test, c = 'g', s = 40)\n",
        "plt.hlines(y = 0, xmin = 0, xmax = 50)\n",
        "plt.title('Residual Plot using training (blue) and test (green) data')\n",
        "plt.ylabel('Residuals')"
      ],
      "execution_count": 0,
      "outputs": [
        {
          "output_type": "error",
          "ename": "NameError",
          "evalue": "ignored",
          "traceback": [
            "\u001b[0;31m---------------------------------------------------------------------------\u001b[0m",
            "\u001b[0;31mNameError\u001b[0m                                 Traceback (most recent call last)",
            "\u001b[0;32m<ipython-input-22-4406cdccb090>\u001b[0m in \u001b[0;36m<module>\u001b[0;34m()\u001b[0m\n\u001b[0;32m----> 1\u001b[0;31m \u001b[0mplt\u001b[0m\u001b[0;34m.\u001b[0m\u001b[0mscatter\u001b[0m\u001b[0;34m(\u001b[0m\u001b[0mlm\u001b[0m\u001b[0;34m.\u001b[0m\u001b[0mpredict\u001b[0m\u001b[0;34m(\u001b[0m\u001b[0mX_train\u001b[0m\u001b[0;34m)\u001b[0m\u001b[0;34m,\u001b[0m \u001b[0mlm\u001b[0m\u001b[0;34m.\u001b[0m\u001b[0mpredict\u001b[0m\u001b[0;34m(\u001b[0m\u001b[0mX_train\u001b[0m\u001b[0;34m)\u001b[0m \u001b[0;34m-\u001b[0m \u001b[0mY_train\u001b[0m\u001b[0;34m,\u001b[0m \u001b[0mc\u001b[0m \u001b[0;34m=\u001b[0m \u001b[0;34m'b'\u001b[0m\u001b[0;34m,\u001b[0m \u001b[0ms\u001b[0m \u001b[0;34m=\u001b[0m \u001b[0;36m40\u001b[0m\u001b[0;34m,\u001b[0m \u001b[0malpha\u001b[0m \u001b[0;34m=\u001b[0m \u001b[0;36m0.5\u001b[0m\u001b[0;34m)\u001b[0m\u001b[0;34m\u001b[0m\u001b[0;34m\u001b[0m\u001b[0m\n\u001b[0m\u001b[1;32m      2\u001b[0m \u001b[0mplt\u001b[0m\u001b[0;34m.\u001b[0m\u001b[0mscatter\u001b[0m\u001b[0;34m(\u001b[0m\u001b[0mlm\u001b[0m\u001b[0;34m.\u001b[0m\u001b[0mpredict\u001b[0m\u001b[0;34m(\u001b[0m\u001b[0mX_test\u001b[0m\u001b[0;34m)\u001b[0m\u001b[0;34m,\u001b[0m \u001b[0mlm\u001b[0m\u001b[0;34m.\u001b[0m\u001b[0mpredict\u001b[0m\u001b[0;34m(\u001b[0m\u001b[0mX_test\u001b[0m\u001b[0;34m)\u001b[0m \u001b[0;34m-\u001b[0m \u001b[0mY_test\u001b[0m\u001b[0;34m,\u001b[0m \u001b[0mc\u001b[0m \u001b[0;34m=\u001b[0m \u001b[0;34m'g'\u001b[0m\u001b[0;34m,\u001b[0m \u001b[0ms\u001b[0m \u001b[0;34m=\u001b[0m \u001b[0;36m40\u001b[0m\u001b[0;34m)\u001b[0m\u001b[0;34m\u001b[0m\u001b[0;34m\u001b[0m\u001b[0m\n\u001b[1;32m      3\u001b[0m \u001b[0mplt\u001b[0m\u001b[0;34m.\u001b[0m\u001b[0mhlines\u001b[0m\u001b[0;34m(\u001b[0m\u001b[0my\u001b[0m \u001b[0;34m=\u001b[0m \u001b[0;36m0\u001b[0m\u001b[0;34m,\u001b[0m \u001b[0mxmin\u001b[0m \u001b[0;34m=\u001b[0m \u001b[0;36m0\u001b[0m\u001b[0;34m,\u001b[0m \u001b[0mxmax\u001b[0m \u001b[0;34m=\u001b[0m \u001b[0;36m50\u001b[0m\u001b[0;34m)\u001b[0m\u001b[0;34m\u001b[0m\u001b[0;34m\u001b[0m\u001b[0m\n\u001b[1;32m      4\u001b[0m \u001b[0mplt\u001b[0m\u001b[0;34m.\u001b[0m\u001b[0mtitle\u001b[0m\u001b[0;34m(\u001b[0m\u001b[0;34m'Residual Plot using training (blue) and test (green) data'\u001b[0m\u001b[0;34m)\u001b[0m\u001b[0;34m\u001b[0m\u001b[0;34m\u001b[0m\u001b[0m\n\u001b[1;32m      5\u001b[0m \u001b[0mplt\u001b[0m\u001b[0;34m.\u001b[0m\u001b[0mylabel\u001b[0m\u001b[0;34m(\u001b[0m\u001b[0;34m'Residuals'\u001b[0m\u001b[0;34m)\u001b[0m\u001b[0;34m\u001b[0m\u001b[0;34m\u001b[0m\u001b[0m\n",
            "\u001b[0;31mNameError\u001b[0m: name 'X_train' is not defined"
          ]
        }
      ]
    }
  ]
}